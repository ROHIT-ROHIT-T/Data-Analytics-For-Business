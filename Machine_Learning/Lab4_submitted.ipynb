{
  "cells": [
    {
      "cell_type": "markdown",
      "metadata": {
        "id": "ZfcF12igfB8i"
      },
      "source": [
        "# Lab 4: Building an Image Classifier from Scratch\n",
        "\n",
        "The main goal of this lab is to create an image classifier from scratch using the Keras package. You will create a binary classifier based on an object type of your choice. The classifier will accept images and then predict whether or not a given image contains that object. For example, if you chose your object to be a cat, then the classifier would accept images and predict 1 if it believes there is a cat in the image or a 0 if not. \n",
        "\n",
        "You will build and train a classifier in two ways: \n",
        "- first using the original data set that you create, and \n",
        "- second, using data augmentation techniques. \n",
        "\n",
        "**Grading:** \n",
        "**Grading:** \n",
        "\n",
        " - 50% of the grade will come from FINAL, error-free code written in Python/Keras that accomplishes all the steps outlined in the instructions for each part of this lab and written in Python/Keras \n",
        " - 50% will come from descriptive comments associated with that code, where the comments explain what the code is doing and why it is important to the overall objective. Thus, comments like \"split the data\" or \"train the model\" would receive a grade of 0 as they do not indicate any understanding.\n",
        "\n",
        "**Research Required:** \n",
        "\n",
        "To complete this lab successfully you will need to do some research. At the very least, you will need to implement the [`ImageDataGenerator` class](https://www.tensorflow.org/api_docs/python/tf/keras/preprocessing/image/ImageDataGenerator) and the [`.flow_from_directory` method](https://www.tensorflow.org/api_docs/python/tf/keras/preprocessing/image/ImageDataGenerator#flow_from_directory). \n",
        "\n",
        "**What to submit:**\n",
        "- A copy of this notebook with:\n",
        "    - Error-free code in Python/Keras\n",
        "    - All code cells executed and output visible\n",
        "- Include a zipped file of your images\n",
        "\n",
        "\n",
        "\n",
        "## Part 1: Prep Work\n",
        "### Choose an Object\n",
        "\n",
        "**You may choose any object other than a cat**.\n",
        "\n",
        "### Create a Dataset\n",
        "Use the code provided below to:\n",
        " - download a minimum of 500 **useable** images of the chosen object\n",
        " - download a minimum of 500 **useable** images of other things that are not your object; there should be **at least 10 different types of objects** in this group of images\n",
        " \n",
        "You should manually verify that the images are indeed of the correct object; that is, sometimes the code will download images that are not of the desired search term and should be deleted. \n",
        " \n",
        "From these images you will create a training folder (minimum of 350 object/350 not object), a validation folder (minimum of 50 object/50 not object), and a test folder (minimum of 100 object/100 not object). The final counts should approximately represent a 70%/10%/20% split. **Code to create the training, validation, and test folders should be included.**\n",
        "\n",
        "It's best if your dataset is diverse, so verify that the images of the chosen object have, for example, different lighting, are from different angles, different distances from camera. Similarly for the *not object* images: try to include a variety of objects in different ways. \n",
        "\n",
        "**The images downloaded should not be used for any purpose other than personal academic use unless noted otherwise by the copyright holder of the image.**"
      ]
    },
    {
      "cell_type": "markdown",
      "source": [
        "### Group#: 08  \n",
        "\n",
        "|Name | Student ID | \n",
        "|:-:|:-:|\n",
        "|Rohit Rohit  |  0773987|\n",
        "|Rakesh Singh  | 0775942 |\n",
        "|Praveen Thudianplackal Jose  | 0779521 |\n",
        "|Reshma Thomas  | 0779853 |"
      ],
      "metadata": {
        "id": "vDUuBk41whDD"
      }
    },
    {
      "cell_type": "markdown",
      "metadata": {
        "id": "IVFHFqlJfB8l"
      },
      "source": [
        "#### Code for image download\n",
        "\n",
        "Use the code cells below to download the required images. Note that you will most likely need to request more images than the required amount as some images will not be useable. "
      ]
    },
    {
      "cell_type": "code",
      "execution_count": null,
      "metadata": {
        "id": "cUJG41sdfB8l"
      },
      "outputs": [],
      "source": [
        "# modified version of code at https://python.plainenglish.io/how-to-automatically-download-bulk-images-for-your-dataset-using-python-f1efffba7a03\n",
        "import os\n",
        "import requests\n",
        "import pathlib\n",
        "from bs4 import BeautifulSoup"
      ]
    },
    {
      "cell_type": "code",
      "execution_count": null,
      "metadata": {
        "id": "5ISEABrLfB8m"
      },
      "outputs": [],
      "source": [
        "google_image = \"https://www.google.com/search?site=&tbm=isch&source=hp&biw=1873&bih=990&\"\n",
        "\n",
        "user_agent = {\n",
        "    \"User-Agent\": \"Mozilla/5.0 (Windows NT 10.0; Win64; x64) AppleWebKit/537.36 (KHTML, like Gecko) Chrome/70.0.3538.77 Safari/537.36\"\n",
        "}"
      ]
    },
    {
      "cell_type": "code",
      "execution_count": null,
      "metadata": {
        "id": "Z0fpz72zfB8m"
      },
      "outputs": [],
      "source": [
        "def download_images():\n",
        "    data = input('What are you looking for? ')\n",
        "    n_images = int(input('How many images do you want? '))\n",
        "\n",
        "    print(f'\\nSearching for {n_images}...\\n')\n",
        "\n",
        "    search_url = google_image + 'q=' + data\n",
        "\n",
        "    response = requests.get(search_url, headers=user_agent)\n",
        "    html = response.text\n",
        "\n",
        "    soup = BeautifulSoup(html, 'html.parser')\n",
        "    results = soup.findAll('img', {'class': 'rg_i Q4LuWd'})\n",
        "\n",
        "    count = 1\n",
        "    links = []\n",
        "    \n",
        "    for result in results:\n",
        "        try:\n",
        "            link = result['data-src']\n",
        "            links.append(link)\n",
        "            count += 1\n",
        "            if(count > n_images):\n",
        "                break\n",
        "\n",
        "        except KeyError:\n",
        "            continue\n",
        "            \n",
        "    print(f\"Found {len(links)} images.\\n\")\n",
        "    print(f\"Downloading {len(links)} images...\\n\")\n",
        "\n",
        "    curr_path = pathlib.Path()\n",
        "    saved_folder = curr_path / 'images' / data\n",
        "\n",
        "    pathlib.Path(saved_folder).mkdir(parents=True, exist_ok=True)\n",
        "\n",
        "    for i, link in enumerate(links):\n",
        "        response = requests.get(link)\n",
        "        filename = data + str(i+1) + '.jpg'\n",
        "        image_name = saved_folder / filename\n",
        "\n",
        "        with open(image_name, 'wb') as fh:\n",
        "            fh.write(response.content)\n",
        "    \n",
        "    print(f\"Finished downloading!\")\n"
      ]
    },
    {
      "cell_type": "code",
      "execution_count": null,
      "metadata": {
        "id": "97oSl6QzfB8m"
      },
      "outputs": [],
      "source": [
        "download_images()"
      ]
    },
    {
      "cell_type": "code",
      "source": [
        "import os\n",
        "from tensorflow.keras.preprocessing.image import ImageDataGenerator\n",
        "from tensorflow.keras.layers import  Conv2D,MaxPooling2D,BatchNormalization,Dense,Flatten,Dropout\n",
        "from tensorflow.keras.models import  Sequential\n",
        "from tensorflow.keras.optimizers import Adam,RMSprop\n",
        "from tensorflow.keras.wrappers.scikit_learn import KerasClassifier\n",
        "from tensorflow.keras.losses import  SparseCategoricalCrossentropy"
      ],
      "metadata": {
        "id": "Wkun1zoXIFZj"
      },
      "execution_count": null,
      "outputs": []
    },
    {
      "cell_type": "code",
      "source": [
        "from google.colab import drive\n",
        "drive.mount(\"/content/drive\")\n",
        "\n",
        "from pathlib import Path\n",
        "path = Path().cwd()\n",
        "q = path/'drive'/'MyDrive'/'Colab Notebooks'/'Lab_4'\n",
        "print(q)\n",
        "\n",
        "import pandas as pd\n",
        "from google.colab import drive\n",
        "\n",
        "drive.mount('/content/drive')\n",
        "\n",
        "\n"
      ],
      "metadata": {
        "colab": {
          "base_uri": "https://localhost:8080/"
        },
        "id": "Dv1cl2pXy9BL",
        "outputId": "f8969bb4-7f3e-45b2-d0aa-ced029b43328"
      },
      "execution_count": null,
      "outputs": [
        {
          "output_type": "stream",
          "name": "stdout",
          "text": [
            "Drive already mounted at /content/drive; to attempt to forcibly remount, call drive.mount(\"/content/drive\", force_remount=True).\n",
            "/content/drive/MyDrive/Colab Notebooks/Lab_4\n",
            "Drive already mounted at /content/drive; to attempt to forcibly remount, call drive.mount(\"/content/drive\", force_remount=True).\n"
          ]
        }
      ]
    },
    {
      "cell_type": "markdown",
      "source": [
        "## Part 2: Using the Original Data\n",
        "\n",
        "### Dataset Verification\n",
        "\n",
        "You should verify that the training, validation, and test sets have the correct number of images (the `os` functions should help with this) and that the data is organized in `train`, `validation`, and `test` folders. \n"
      ],
      "metadata": {
        "id": "G2mop28w0PvV"
      }
    },
    {
      "cell_type": "code",
      "source": [
        "#Here, we have used the OS Library to get the number of images in test, train and validation.\n",
        "\n",
        "#The total image count is around 1000, out of it 500 is for horse image and rest 500 is for non horse images. \n",
        "\n",
        "#Again out of this 500 images, 70% we have used for training, 10% for validation and 20% for testing purpose.\n",
        "\n",
        "#So, by using below code we have verified the test, train and validation have correct number of images as expected.\n",
        "\n",
        "\n",
        "df = os.listdir('/content/drive/MyDrive/Colab Notebooks/lab_4/train/Horse') # directory path\n",
        "number_files = len(df)\n",
        "print(f' Train Horse :{number_files}')\n",
        "df = os.listdir('/content/drive/MyDrive/Colab Notebooks/lab_4/test/Horse') # directory path\n",
        "number_files = len(df)\n",
        "print(f' Test Horse :{number_files}')\n",
        "df = os.listdir('/content/drive/MyDrive/Colab Notebooks/lab_4/validation/Horse') # directory path\n",
        "number_files = len(df)\n",
        "print(f' Validation Horse :{number_files}')\n",
        "df = os.listdir('/content/drive/MyDrive/Colab Notebooks/lab_4/train/no horse') # directory path\n",
        "number_files = len(df)\n",
        "print(f' Train no horse :{number_files}')\n",
        "df = os.listdir('/content/drive/MyDrive/Colab Notebooks/lab_4/test/no horse') # directory path\n",
        "number_files = len(df)\n",
        "print(f' Test  no horse :{number_files}')\n",
        "df = os.listdir('/content/drive/MyDrive/Colab Notebooks/lab_4/validation/no horse') # directory path\n",
        "number_files = len(df)\n",
        "print(f' Validation no horse :{number_files}')"
      ],
      "metadata": {
        "colab": {
          "base_uri": "https://localhost:8080/"
        },
        "id": "QuN1rcHk0T9S",
        "outputId": "2934a025-012d-4e13-9f82-32b2fbd89dba"
      },
      "execution_count": null,
      "outputs": [
        {
          "output_type": "stream",
          "name": "stdout",
          "text": [
            " Train Horse :350\n",
            " Test Horse :100\n",
            " Validation Horse :50\n",
            " Train no horse :350\n",
            " Test  no horse :100\n",
            " Validation no horse :50\n"
          ]
        }
      ]
    },
    {
      "cell_type": "markdown",
      "source": [
        "### Dataset Loading and Processing with Image Data Generators\n",
        "\n",
        "You should now create image data generators for your training, validation, and test datasets that will allow you to feed them into your model in batches. The images should be resized to 180x180 pixels and scaled so all pixel values are between 0 and 1"
      ],
      "metadata": {
        "id": "c3KlRJLK0r7U"
      }
    },
    {
      "cell_type": "code",
      "source": [
        "#Use of Image data generator and flow from directory\n",
        "#We're utilising the image data generator to create tensor images in batches.\n",
        "\n",
        "#Flow from directory aids in directing the route to the directory as well as assisting in the creation of batches for the \n",
        "#specified data.\n",
        "\n",
        "\n",
        "#in the blow code we are scaling the pixel value by dividing 255 so that the value are in the range of 0 to 1.\n",
        "train_df = ImageDataGenerator(rescale=1./255)\n",
        "test_df = ImageDataGenerator(rescale=1./255)\n",
        "validation_df = ImageDataGenerator(rescale=1./255)\n",
        "\n",
        "# The below code is used to get the image in two category \"horse\" and \"not horse\" from the directory folder train.\n",
        "# Target size is use for setting all image size as same, here we are used 180*180 as target size.\n",
        "# Batch size = 32 will help to maintain 32 number of images in the each batch.\n",
        "# We used binary as class mode it is because we  are doing Binary classification.\n",
        "\n",
        "tr_g = train_df.flow_from_directory('/content/drive/MyDrive/Colab Notebooks/lab_4/train',\n",
        "        (180, 180),\n",
        "        batch_size=32,\n",
        "        class_mode ='binary'\n",
        "        )\n",
        "\n",
        "# The below code is used to get the image in two category \"horse\" and \"not horse\" from the directory folder validation.\n",
        "# Target size is use for setting all image size as same, here we are used 180*180 as target size.\n",
        "# Batch size = 32 will help to maintain 32 number of images in the each batch.\n",
        "# We used binary as class mode it is because we  are doing Binary classification.\n",
        "\n",
        "val_g = validation_df.flow_from_directory('/content/drive/MyDrive/Colab Notebooks/lab_4/validation',\n",
        "        (180, 180),\n",
        "        batch_size=32,\n",
        "        class_mode='binary'\n",
        "        )\n",
        "# The below code is used to get the image in two category \"horse\" and \"not horse\" from the directory folder test.\n",
        "# Target size is use for setting all image size as same, here we are used 180*180 as target size.\n",
        "# Batch size = 32 will help to maintain 32 number of images in the each batch.\n",
        "# We used binary as class mode it is because we  are doing Binary classification.\n",
        "\n",
        "te_g = test_df.flow_from_directory('/content/drive/MyDrive/Colab Notebooks/lab_4/test',\n",
        "        (180, 180),\n",
        "        batch_size=32,\n",
        "        class_mode='binary'\n",
        "        )"
      ],
      "metadata": {
        "colab": {
          "base_uri": "https://localhost:8080/"
        },
        "id": "xoKWEU2K0uen",
        "outputId": "123a6182-3b13-4e6d-fa23-59376b07248d"
      },
      "execution_count": null,
      "outputs": [
        {
          "output_type": "stream",
          "name": "stdout",
          "text": [
            "Found 700 images belonging to 2 classes.\n",
            "Found 100 images belonging to 2 classes.\n",
            "Found 200 images belonging to 2 classes.\n"
          ]
        }
      ]
    },
    {
      "cell_type": "markdown",
      "source": [
        "### Create and Evaluate a Model\n",
        "\n",
        "Build a convolutional neural network and use the validation loss and accuracy to select the best architecture and hyperparameters so that you can maximize the validation accuracy. \n",
        "\n",
        "Any overfitting should be addressed; that is, if your model begins overfitting after epoch 3, you should not quote validation accuracy after epoch 15. And, appropriate attempts should be made to reduce/eliminate the overfitting to improve overall model generalizability. "
      ],
      "metadata": {
        "id": "uqLoAZ7X4MDN"
      }
    },
    {
      "cell_type": "code",
      "source": [
        "#The step we followed to create and evaluate the model\n",
        "#The sequencial model we have created using the convolution layers as well as the fully connected layers.\n",
        "\n",
        "#The number of convolution layers have used here is 9.\n",
        "\n",
        "#The same and valid padding options have used for giving more space for the filter to handle in the images.\n",
        "\n",
        "#Also the activation function here we have used is relu and sigmoid.\n",
        "\n",
        "#Here the dropout layer is helping to restrict the overfitting. It is usually using after the convolutional layer and the maxpooling\n",
        "#we are using maxpooling function to decrease our paramter which also prevents our model from overfitting.\n",
        "#Pooling will reduce overfitting and it also decrease our parameter.\n",
        "\n",
        "#The dense is used for creating the fully connected layers.\n",
        "\n",
        "#The amount by which the window shifts in each dimension is determined by strides.  Here we have used strides value 1 and 2.\n",
        "\n",
        "#While doing the model compailing, we have used optimizer as 'adam', loss as 'SparseCategoricalCrossentropy' and \n",
        "#the metrics for evaluation is choosed as 'accuracy'.\n",
        "\n",
        "#flatten function we are used for converting our data matrics to an 1D array for inputtig to our fully connected network.\n",
        "\n",
        "#Lastly, we have fitted the model with the epochs value of 20.\n",
        "\n",
        "cnn_model = Sequential([\n",
        "                    Conv2D(filters = 32, kernel_size = (3,3), padding = 'same', activation = 'relu', input_shape = (180,180,3)),\n",
        "                    Conv2D(filters = 32, kernel_size = (3,3), padding = 'same', activation = 'relu'),\n",
        "                    MaxPooling2D((2,2)),\n",
        "                    BatchNormalization(),\n",
        "                    Dropout(0.2),\n",
        "                    Conv2D(filters = 32, kernel_size = (4,4), padding = 'same', activation = 'relu'),\n",
        "                    #Dropout(0.2),\n",
        "                    Conv2D(filters = 32, kernel_size = (3,3), padding = 'same', activation = 'relu'),\n",
        "                    MaxPooling2D((2,2)),\n",
        "                    Conv2D(filters = 64, kernel_size = (4,4), padding = 'valid', activation  = 'relu' ),\n",
        "                    MaxPooling2D(pool_size = (3,3), strides = 1),\n",
        "                    Conv2D(filters = 64, kernel_size = (3,3), padding = 'valid', activation  = 'relu' ),\n",
        "                    MaxPooling2D(pool_size = (2,2), strides = 2),\n",
        "                    # Dropout(0.2), #last\n",
        "                    Conv2D(filters = 32, kernel_size = (3,3), padding = 'same', activation  = 'relu' ),\n",
        "                    MaxPooling2D(pool_size = (2,2), strides = 2),\n",
        "                    BatchNormalization(),\n",
        "                    Dropout(0.3),\n",
        "                    Conv2D(filters = 64, kernel_size = (3,3), padding = 'same', activation  = 'relu' ),\n",
        "                    Conv2D(filters = 64, kernel_size = (3,3), padding = 'same', activation  = 'relu' ),\n",
        "                    MaxPooling2D(pool_size = (2,2), strides = 1),\n",
        "                    BatchNormalization(),\n",
        "                    Flatten(),\n",
        "                    Dense(128, activation='relu'),\n",
        "                    Dropout(0.2),\n",
        "                    BatchNormalization(),\n",
        "                    Dense(2, activation='sigmoid')\n",
        "                    ])\n",
        "                    \n",
        "cnn_model.summary()\n",
        "\n",
        "cnn_model.compile(optimizer='adam', \n",
        "              loss=SparseCategoricalCrossentropy(from_logits=False),\n",
        "              metrics=['accuracy'] )\n",
        "\n",
        "cnn_model.fit(tr_g, epochs=20, validation_data=val_g)\n",
        "                  "
      ],
      "metadata": {
        "colab": {
          "base_uri": "https://localhost:8080/"
        },
        "id": "uQFj06NvWtOD",
        "outputId": "cb1969de-225f-45ac-8170-d713c3b55a8e"
      },
      "execution_count": null,
      "outputs": [
        {
          "output_type": "stream",
          "name": "stdout",
          "text": [
            "Model: \"sequential_3\"\n",
            "_________________________________________________________________\n",
            " Layer (type)                Output Shape              Param #   \n",
            "=================================================================\n",
            " conv2d_27 (Conv2D)          (None, 180, 180, 32)      896       \n",
            "                                                                 \n",
            " conv2d_28 (Conv2D)          (None, 180, 180, 32)      9248      \n",
            "                                                                 \n",
            " max_pooling2d_18 (MaxPoolin  (None, 90, 90, 32)       0         \n",
            " g2D)                                                            \n",
            "                                                                 \n",
            " batch_normalization_12 (Bat  (None, 90, 90, 32)       128       \n",
            " chNormalization)                                                \n",
            "                                                                 \n",
            " dropout_9 (Dropout)         (None, 90, 90, 32)        0         \n",
            "                                                                 \n",
            " conv2d_29 (Conv2D)          (None, 90, 90, 32)        16416     \n",
            "                                                                 \n",
            " conv2d_30 (Conv2D)          (None, 90, 90, 32)        9248      \n",
            "                                                                 \n",
            " max_pooling2d_19 (MaxPoolin  (None, 45, 45, 32)       0         \n",
            " g2D)                                                            \n",
            "                                                                 \n",
            " conv2d_31 (Conv2D)          (None, 42, 42, 64)        32832     \n",
            "                                                                 \n",
            " max_pooling2d_20 (MaxPoolin  (None, 40, 40, 64)       0         \n",
            " g2D)                                                            \n",
            "                                                                 \n",
            " conv2d_32 (Conv2D)          (None, 38, 38, 64)        36928     \n",
            "                                                                 \n",
            " max_pooling2d_21 (MaxPoolin  (None, 19, 19, 64)       0         \n",
            " g2D)                                                            \n",
            "                                                                 \n",
            " conv2d_33 (Conv2D)          (None, 19, 19, 32)        18464     \n",
            "                                                                 \n",
            " max_pooling2d_22 (MaxPoolin  (None, 9, 9, 32)         0         \n",
            " g2D)                                                            \n",
            "                                                                 \n",
            " batch_normalization_13 (Bat  (None, 9, 9, 32)         128       \n",
            " chNormalization)                                                \n",
            "                                                                 \n",
            " dropout_10 (Dropout)        (None, 9, 9, 32)          0         \n",
            "                                                                 \n",
            " conv2d_34 (Conv2D)          (None, 9, 9, 64)          18496     \n",
            "                                                                 \n",
            " conv2d_35 (Conv2D)          (None, 9, 9, 64)          36928     \n",
            "                                                                 \n",
            " max_pooling2d_23 (MaxPoolin  (None, 8, 8, 64)         0         \n",
            " g2D)                                                            \n",
            "                                                                 \n",
            " batch_normalization_14 (Bat  (None, 8, 8, 64)         256       \n",
            " chNormalization)                                                \n",
            "                                                                 \n",
            " flatten_3 (Flatten)         (None, 4096)              0         \n",
            "                                                                 \n",
            " dense_6 (Dense)             (None, 128)               524416    \n",
            "                                                                 \n",
            " dropout_11 (Dropout)        (None, 128)               0         \n",
            "                                                                 \n",
            " batch_normalization_15 (Bat  (None, 128)              512       \n",
            " chNormalization)                                                \n",
            "                                                                 \n",
            " dense_7 (Dense)             (None, 2)                 258       \n",
            "                                                                 \n",
            "=================================================================\n",
            "Total params: 705,154\n",
            "Trainable params: 704,642\n",
            "Non-trainable params: 512\n",
            "_________________________________________________________________\n",
            "Epoch 1/20\n",
            "22/22 [==============================] - 6s 198ms/step - loss: 1.0339 - accuracy: 0.5343 - val_loss: 0.9582 - val_accuracy: 0.4600\n",
            "Epoch 2/20\n",
            "22/22 [==============================] - 4s 175ms/step - loss: 0.7866 - accuracy: 0.5843 - val_loss: 0.7801 - val_accuracy: 0.5200\n",
            "Epoch 3/20\n",
            "22/22 [==============================] - 4s 175ms/step - loss: 0.7070 - accuracy: 0.6386 - val_loss: 1.0234 - val_accuracy: 0.5000\n",
            "Epoch 4/20\n",
            "22/22 [==============================] - 4s 175ms/step - loss: 0.6696 - accuracy: 0.6414 - val_loss: 0.8958 - val_accuracy: 0.5000\n",
            "Epoch 5/20\n",
            "22/22 [==============================] - 4s 176ms/step - loss: 0.6235 - accuracy: 0.6857 - val_loss: 1.0204 - val_accuracy: 0.5000\n",
            "Epoch 6/20\n",
            "22/22 [==============================] - 4s 177ms/step - loss: 0.6518 - accuracy: 0.6571 - val_loss: 0.7353 - val_accuracy: 0.5100\n",
            "Epoch 7/20\n",
            "22/22 [==============================] - 4s 178ms/step - loss: 0.6544 - accuracy: 0.6400 - val_loss: 0.9352 - val_accuracy: 0.5000\n",
            "Epoch 8/20\n",
            "22/22 [==============================] - 4s 187ms/step - loss: 0.6454 - accuracy: 0.6529 - val_loss: 1.0675 - val_accuracy: 0.5000\n",
            "Epoch 9/20\n",
            "22/22 [==============================] - 4s 177ms/step - loss: 0.5900 - accuracy: 0.7014 - val_loss: 1.1870 - val_accuracy: 0.5000\n",
            "Epoch 10/20\n",
            "22/22 [==============================] - 4s 177ms/step - loss: 0.5612 - accuracy: 0.7114 - val_loss: 0.6786 - val_accuracy: 0.4700\n",
            "Epoch 11/20\n",
            "22/22 [==============================] - 4s 177ms/step - loss: 0.5492 - accuracy: 0.7371 - val_loss: 0.8660 - val_accuracy: 0.5000\n",
            "Epoch 12/20\n",
            "22/22 [==============================] - 4s 177ms/step - loss: 0.5427 - accuracy: 0.7300 - val_loss: 0.8773 - val_accuracy: 0.5200\n",
            "Epoch 13/20\n",
            "22/22 [==============================] - 4s 178ms/step - loss: 0.4961 - accuracy: 0.7614 - val_loss: 1.4120 - val_accuracy: 0.5000\n",
            "Epoch 14/20\n",
            "22/22 [==============================] - 4s 177ms/step - loss: 0.4830 - accuracy: 0.7729 - val_loss: 0.8677 - val_accuracy: 0.5400\n",
            "Epoch 15/20\n",
            "22/22 [==============================] - 4s 177ms/step - loss: 0.3907 - accuracy: 0.8243 - val_loss: 0.9190 - val_accuracy: 0.5200\n",
            "Epoch 16/20\n",
            "22/22 [==============================] - 4s 177ms/step - loss: 0.3802 - accuracy: 0.8371 - val_loss: 0.8507 - val_accuracy: 0.5500\n",
            "Epoch 17/20\n",
            "22/22 [==============================] - 4s 177ms/step - loss: 0.3788 - accuracy: 0.8343 - val_loss: 0.9400 - val_accuracy: 0.5400\n",
            "Epoch 18/20\n",
            "22/22 [==============================] - 4s 177ms/step - loss: 0.3149 - accuracy: 0.8657 - val_loss: 0.8692 - val_accuracy: 0.5900\n",
            "Epoch 19/20\n",
            "22/22 [==============================] - 4s 177ms/step - loss: 0.2978 - accuracy: 0.8871 - val_loss: 1.1162 - val_accuracy: 0.5500\n",
            "Epoch 20/20\n",
            "22/22 [==============================] - 4s 176ms/step - loss: 0.3036 - accuracy: 0.8814 - val_loss: 1.1253 - val_accuracy: 0.5900\n"
          ]
        },
        {
          "output_type": "execute_result",
          "data": {
            "text/plain": [
              "<keras.callbacks.History at 0x7f95da277650>"
            ]
          },
          "metadata": {},
          "execution_count": 18
        }
      ]
    },
    {
      "cell_type": "markdown",
      "source": [
        "### Report Accuracy on Test Set \n",
        "\n",
        "Your final step is to make predictions using the test set and report the final test set accuracy."
      ],
      "metadata": {
        "id": "xnICeYmoDKhH"
      }
    },
    {
      "cell_type": "code",
      "source": [
        "#This below code is used for finding the test accuracy\n",
        "test_acc = cnn_model.evaluate(te_g)\n",
        "print('test_acc:', test_acc)"
      ],
      "metadata": {
        "colab": {
          "base_uri": "https://localhost:8080/"
        },
        "id": "k61wYnR1Fpo4",
        "outputId": "b7bd53d9-3eb5-46f7-fcb0-70d39bc95f50"
      },
      "execution_count": null,
      "outputs": [
        {
          "output_type": "stream",
          "name": "stdout",
          "text": [
            "7/7 [==============================] - 1s 102ms/step - loss: 0.9792 - accuracy: 0.6150\n",
            "test_acc: [0.9791820645332336, 0.6150000095367432]\n"
          ]
        }
      ]
    },
    {
      "cell_type": "code",
      "execution_count": null,
      "metadata": {
        "id": "lhEEuYJ5fB8n"
      },
      "outputs": [],
      "source": [
        ""
      ]
    },
    {
      "cell_type": "markdown",
      "metadata": {
        "id": "Ff9ZT9j7fB8n"
      },
      "source": [
        "## Part 3: Using Data Augmentation  \n"
      ]
    },
    {
      "cell_type": "markdown",
      "source": [
        "### Dataset Loading and Processing with Create Image Data Generators\n",
        "\n",
        "You should now create image data generators for your training, validation, and test datasets that will allow you to feed them into your model in batches. The images should be resized to 148x148 pixels and scaled so all pixel values are between 0 and 1. "
      ],
      "metadata": {
        "id": "se3qUfUm9Ifg"
      }
    },
    {
      "cell_type": "code",
      "execution_count": null,
      "metadata": {
        "id": "jQT0GSXsfB8o"
      },
      "outputs": [],
      "source": [
        "# Below code chunk is used to augment the train image as required for the lab. In this code chunk we have given the horizontal and vertical shift to the image.\n",
        "# Rotation is kept at 60 degrees for all the images.\n",
        "# anytype of flips are kept as false which restricts the flip of the images.\n",
        "# All the images are rescaled to 0 and 1.\n",
        "\n",
        "augment_data= ImageDataGenerator(samplewise_center=True,\n",
        "                                 featurewise_std_normalization=False,\n",
        "                                 samplewise_std_normalization=False,\n",
        "                                 zca_whitening=False,\n",
        "                                 rotation_range=60,\n",
        "                                 width_shift_range=0.3,\n",
        "                                 height_shift_range=0.3,\n",
        "                                 brightness_range=None,\n",
        "                                 shear_range=0.0,\n",
        "                                 zoom_range=0.0,\n",
        "                                 channel_shift_range=0.0,\n",
        "                                 fill_mode='nearest',\n",
        "                                 cval=0.0,\n",
        "                                 horizontal_flip=False,\n",
        "                                 vertical_flip=False,\n",
        "                                 rescale=1/255.,\n",
        "                                 preprocessing_function=None,\n",
        "                                 data_format=None)"
      ]
    },
    {
      "cell_type": "code",
      "source": [
        "# below code is used to import training data using flow_from_directory.\n",
        "tr_aug = train_df.flow_from_directory('/content/drive/MyDrive/Colab Notebooks/lab_4/train',\n",
        "        (148, 148), # All the images are rescaled to 148x148 to have a uniformity among all the images.\n",
        "        batch_size=32, #This will pass batch of 32 at a time as passing all the images at a time will make the process very slow.\n",
        "        class_mode ='binary' # Class mode is kept as binary as our output will be either yes or no. \n",
        "        )\n",
        "\n",
        "# below code is used to import validation data using flow_from_directory.\n",
        "val_aug = validation_df.flow_from_directory('/content/drive/MyDrive/Colab Notebooks/lab_4/validation',\n",
        "        (148, 148),\n",
        "        batch_size=32,\n",
        "        class_mode='binary'\n",
        "        )\n",
        "\n",
        "# below code is used to import test data using flow_from_directory.\n",
        "te_aug = test_df.flow_from_directory('/content/drive/MyDrive/Colab Notebooks/lab_4/test',\n",
        "        (148, 148),\n",
        "        batch_size=32,\n",
        "        class_mode='binary'\n",
        "        )"
      ],
      "metadata": {
        "colab": {
          "base_uri": "https://localhost:8080/"
        },
        "id": "8JNRtzO4_gFN",
        "outputId": "2191082d-caee-41c9-aa55-424c50dc979a"
      },
      "execution_count": null,
      "outputs": [
        {
          "output_type": "stream",
          "name": "stdout",
          "text": [
            "Found 700 images belonging to 2 classes.\n",
            "Found 100 images belonging to 2 classes.\n",
            "Found 200 images belonging to 2 classes.\n"
          ]
        }
      ]
    },
    {
      "cell_type": "markdown",
      "source": [
        "### Add Data Augmentation \n",
        "\n",
        "You should now add data augmentation to your training data generator ONLY. All useful types of augmentation should be used."
      ],
      "metadata": {
        "id": "OQWmlwkjCxQM"
      }
    },
    {
      "cell_type": "code",
      "source": [
        "# Since we only have to augment train data, we have used the augment data function only with the training data.\n",
        "tr_aug_data = augment_data.flow_from_directory('/content/drive/MyDrive/Colab Notebooks/lab_4/train',\n",
        "        (148, 148),\n",
        "        batch_size=32,\n",
        "        class_mode ='binary'\n",
        "        )\n"
      ],
      "metadata": {
        "colab": {
          "base_uri": "https://localhost:8080/"
        },
        "id": "RZkYw20ACzS0",
        "outputId": "4e9daa2e-a84b-49e7-9f39-10f626af1210"
      },
      "execution_count": null,
      "outputs": [
        {
          "output_type": "stream",
          "name": "stdout",
          "text": [
            "Found 700 images belonging to 2 classes.\n"
          ]
        }
      ]
    },
    {
      "cell_type": "markdown",
      "source": [
        "### Create and Evaluate a Baseline Model\n",
        "\n",
        "Use the best model from **Part 2** to train with the augmented data and evaluate on the validation data to get a baseline accuracy for the new model trained on the augmented dataset."
      ],
      "metadata": {
        "id": "ZyUDoUeMD7TU"
      }
    },
    {
      "cell_type": "code",
      "source": [
        "import matplotlib.pyplot as plt\n",
        "plt.subplot(1,3,1)\n",
        "for (x,y),(x1,y1) in zip(tr_g,tr_aug_data):\n",
        "    plt.subplot(1,2,1)\n",
        "    plt.imshow(x[0])\n",
        "    plt.subplot(1,2,2)\n",
        "    plt.imshow(x1[0])\n",
        "    break"
      ],
      "metadata": {
        "colab": {
          "base_uri": "https://localhost:8080/",
          "height": 222
        },
        "id": "Tlcc9VZKD7iw",
        "outputId": "f6ece399-a928-4a93-a8c9-54137866c628"
      },
      "execution_count": null,
      "outputs": [
        {
          "output_type": "stream",
          "name": "stderr",
          "text": [
            "Clipping input data to the valid range for imshow with RGB data ([0..1] for floats or [0..255] for integers).\n"
          ]
        },
        {
          "output_type": "display_data",
          "data": {
            "image/png": "[encoded data removed]",
            "text/plain": [
              "<Figure size 432x288 with 2 Axes>"
            ]
          },
          "metadata": {
            "needs_background": "light"
          }
        }
      ]
    },
    {
      "cell_type": "code",
      "source": [
        "# The model from part 2 is used with the data from part 3. Only difference here is the input shape because the input shape in part 3 has to be 148x148 based on the requirement\n",
        "\n",
        "cnn_aug_model = Sequential([\n",
        "                    Conv2D(filters = 32, kernel_size = (3,3), padding = 'same', activation = 'relu', input_shape = (148,148,3)),\n",
        "                    Conv2D(filters = 32, kernel_size = (3,3), padding = 'same', activation = 'relu'),\n",
        "                    MaxPooling2D((2,2)),\n",
        "                    BatchNormalization(),\n",
        "                    Dropout(0.2),\n",
        "                    Conv2D(filters = 32, kernel_size = (4,4), padding = 'same', activation = 'relu'),\n",
        "                    #Dropout(0.2),\n",
        "                    Conv2D(filters = 32, kernel_size = (3,3), padding = 'same', activation = 'relu'),\n",
        "                    MaxPooling2D((2,2)),\n",
        "                    Conv2D(filters = 64, kernel_size = (4,4), padding = 'valid', activation  = 'relu' ),\n",
        "                    MaxPooling2D(pool_size = (3,3), strides = 1),\n",
        "                    Conv2D(filters = 64, kernel_size = (3,3), padding = 'valid', activation  = 'relu' ),\n",
        "                    MaxPooling2D(pool_size = (2,2), strides = 2),\n",
        "                    # Dropout(0.2), #last\n",
        "                    Conv2D(filters = 32, kernel_size = (3,3), padding = 'same', activation  = 'relu' ),\n",
        "                    MaxPooling2D(pool_size = (2,2), strides = 2),\n",
        "                    BatchNormalization(),\n",
        "                    Dropout(0.3),\n",
        "                    Conv2D(filters = 64, kernel_size = (3,3), padding = 'same', activation  = 'relu' ),\n",
        "                    Conv2D(filters = 64, kernel_size = (3,3), padding = 'same', activation  = 'relu' ),\n",
        "                    MaxPooling2D(pool_size = (2,2), strides = 1),\n",
        "                    BatchNormalization(),\n",
        "                    Flatten(),\n",
        "                    Dense(128, activation='relu'),\n",
        "                    Dropout(0.2),\n",
        "                    BatchNormalization(),\n",
        "                    Dense(2, activation='sigmoid')\n",
        "                    ])\n",
        "                    \n",
        "cnn_aug_model.summary()\n",
        "\n",
        "cnn_aug_model.compile(optimizer='adam', \n",
        "              loss=SparseCategoricalCrossentropy(from_logits=False),\n",
        "              metrics=['accuracy'] )\n",
        "\n",
        "cnn_aug_model.fit(tr_aug_data, epochs=20, validation_data=val_aug)\n",
        "                  "
      ],
      "metadata": {
        "colab": {
          "base_uri": "https://localhost:8080/"
        },
        "id": "Lpt-DEY2G5Du",
        "outputId": "c6f33df9-4087-41db-cf1d-4c017c4e9ae2"
      },
      "execution_count": null,
      "outputs": [
        {
          "output_type": "stream",
          "name": "stdout",
          "text": [
            "Model: \"sequential_4\"\n",
            "_________________________________________________________________\n",
            " Layer (type)                Output Shape              Param #   \n",
            "=================================================================\n",
            " conv2d_36 (Conv2D)          (None, 148, 148, 32)      896       \n",
            "                                                                 \n",
            " conv2d_37 (Conv2D)          (None, 148, 148, 32)      9248      \n",
            "                                                                 \n",
            " max_pooling2d_24 (MaxPoolin  (None, 74, 74, 32)       0         \n",
            " g2D)                                                            \n",
            "                                                                 \n",
            " batch_normalization_16 (Bat  (None, 74, 74, 32)       128       \n",
            " chNormalization)                                                \n",
            "                                                                 \n",
            " dropout_12 (Dropout)        (None, 74, 74, 32)        0         \n",
            "                                                                 \n",
            " conv2d_38 (Conv2D)          (None, 74, 74, 32)        16416     \n",
            "                                                                 \n",
            " conv2d_39 (Conv2D)          (None, 74, 74, 32)        9248      \n",
            "                                                                 \n",
            " max_pooling2d_25 (MaxPoolin  (None, 37, 37, 32)       0         \n",
            " g2D)                                                            \n",
            "                                                                 \n",
            " conv2d_40 (Conv2D)          (None, 34, 34, 64)        32832     \n",
            "                                                                 \n",
            " max_pooling2d_26 (MaxPoolin  (None, 32, 32, 64)       0         \n",
            " g2D)                                                            \n",
            "                                                                 \n",
            " conv2d_41 (Conv2D)          (None, 30, 30, 64)        36928     \n",
            "                                                                 \n",
            " max_pooling2d_27 (MaxPoolin  (None, 15, 15, 64)       0         \n",
            " g2D)                                                            \n",
            "                                                                 \n",
            " conv2d_42 (Conv2D)          (None, 15, 15, 32)        18464     \n",
            "                                                                 \n",
            " max_pooling2d_28 (MaxPoolin  (None, 7, 7, 32)         0         \n",
            " g2D)                                                            \n",
            "                                                                 \n",
            " batch_normalization_17 (Bat  (None, 7, 7, 32)         128       \n",
            " chNormalization)                                                \n",
            "                                                                 \n",
            " dropout_13 (Dropout)        (None, 7, 7, 32)          0         \n",
            "                                                                 \n",
            " conv2d_43 (Conv2D)          (None, 7, 7, 64)          18496     \n",
            "                                                                 \n",
            " conv2d_44 (Conv2D)          (None, 7, 7, 64)          36928     \n",
            "                                                                 \n",
            " max_pooling2d_29 (MaxPoolin  (None, 6, 6, 64)         0         \n",
            " g2D)                                                            \n",
            "                                                                 \n",
            " batch_normalization_18 (Bat  (None, 6, 6, 64)         256       \n",
            " chNormalization)                                                \n",
            "                                                                 \n",
            " flatten_4 (Flatten)         (None, 2304)              0         \n",
            "                                                                 \n",
            " dense_8 (Dense)             (None, 128)               295040    \n",
            "                                                                 \n",
            " dropout_14 (Dropout)        (None, 128)               0         \n",
            "                                                                 \n",
            " batch_normalization_19 (Bat  (None, 128)              512       \n",
            " chNormalization)                                                \n",
            "                                                                 \n",
            " dense_9 (Dense)             (None, 2)                 258       \n",
            "                                                                 \n",
            "=================================================================\n",
            "Total params: 475,778\n",
            "Trainable params: 475,266\n",
            "Non-trainable params: 512\n",
            "_________________________________________________________________\n",
            "Epoch 1/20\n",
            "22/22 [==============================] - 12s 417ms/step - loss: 1.0316 - accuracy: 0.5114 - val_loss: 0.6944 - val_accuracy: 0.5000\n",
            "Epoch 2/20\n",
            "22/22 [==============================] - 7s 329ms/step - loss: 0.8810 - accuracy: 0.5100 - val_loss: 0.7655 - val_accuracy: 0.5000\n",
            "Epoch 3/20\n",
            "22/22 [==============================] - 7s 328ms/step - loss: 0.8279 - accuracy: 0.5271 - val_loss: 0.6983 - val_accuracy: 0.5000\n",
            "Epoch 4/20\n",
            "22/22 [==============================] - 7s 332ms/step - loss: 0.7715 - accuracy: 0.5171 - val_loss: 0.7095 - val_accuracy: 0.5000\n",
            "Epoch 5/20\n",
            "22/22 [==============================] - 7s 328ms/step - loss: 0.7627 - accuracy: 0.5443 - val_loss: 0.6938 - val_accuracy: 0.5200\n",
            "Epoch 6/20\n",
            "22/22 [==============================] - 7s 333ms/step - loss: 0.7633 - accuracy: 0.5257 - val_loss: 0.7164 - val_accuracy: 0.5000\n",
            "Epoch 7/20\n",
            "22/22 [==============================] - 7s 335ms/step - loss: 0.7693 - accuracy: 0.5114 - val_loss: 0.7727 - val_accuracy: 0.5000\n",
            "Epoch 8/20\n",
            "22/22 [==============================] - 7s 331ms/step - loss: 0.7393 - accuracy: 0.5371 - val_loss: 0.6932 - val_accuracy: 0.4900\n",
            "Epoch 9/20\n",
            "22/22 [==============================] - 7s 329ms/step - loss: 0.7395 - accuracy: 0.5457 - val_loss: 0.7019 - val_accuracy: 0.5000\n",
            "Epoch 10/20\n",
            "22/22 [==============================] - 8s 349ms/step - loss: 0.7422 - accuracy: 0.5300 - val_loss: 0.6925 - val_accuracy: 0.5200\n",
            "Epoch 11/20\n",
            "22/22 [==============================] - 7s 329ms/step - loss: 0.7123 - accuracy: 0.5686 - val_loss: 0.7149 - val_accuracy: 0.5000\n",
            "Epoch 12/20\n",
            "22/22 [==============================] - 7s 329ms/step - loss: 0.7297 - accuracy: 0.5529 - val_loss: 0.7628 - val_accuracy: 0.5000\n",
            "Epoch 13/20\n",
            "22/22 [==============================] - 7s 330ms/step - loss: 0.6950 - accuracy: 0.5971 - val_loss: 0.6929 - val_accuracy: 0.5400\n",
            "Epoch 14/20\n",
            "22/22 [==============================] - 7s 327ms/step - loss: 0.7035 - accuracy: 0.5843 - val_loss: 0.7309 - val_accuracy: 0.5000\n",
            "Epoch 15/20\n",
            "22/22 [==============================] - 7s 329ms/step - loss: 0.7020 - accuracy: 0.6014 - val_loss: 0.7028 - val_accuracy: 0.5000\n",
            "Epoch 16/20\n",
            "22/22 [==============================] - 7s 330ms/step - loss: 0.6781 - accuracy: 0.5971 - val_loss: 0.7018 - val_accuracy: 0.5100\n",
            "Epoch 17/20\n",
            "22/22 [==============================] - 7s 327ms/step - loss: 0.6862 - accuracy: 0.5886 - val_loss: 0.8191 - val_accuracy: 0.5000\n",
            "Epoch 18/20\n",
            "22/22 [==============================] - 7s 329ms/step - loss: 0.6933 - accuracy: 0.5971 - val_loss: 0.8781 - val_accuracy: 0.5000\n",
            "Epoch 19/20\n",
            "22/22 [==============================] - 7s 329ms/step - loss: 0.6806 - accuracy: 0.6029 - val_loss: 0.9112 - val_accuracy: 0.5000\n",
            "Epoch 20/20\n",
            "22/22 [==============================] - 7s 332ms/step - loss: 0.6965 - accuracy: 0.5686 - val_loss: 0.8546 - val_accuracy: 0.5000\n"
          ]
        },
        {
          "output_type": "execute_result",
          "data": {
            "text/plain": [
              "<keras.callbacks.History at 0x7f9560776fd0>"
            ]
          },
          "metadata": {},
          "execution_count": 32
        }
      ]
    },
    {
      "cell_type": "markdown",
      "source": [
        "### Tune the Model\n",
        "\n",
        "With a more complex training set, you may be able to improve the accuracy through adjustments to the baseline model architecture and tuning the hyperparameters."
      ],
      "metadata": {
        "id": "Dy-yiDIKJK-N"
      }
    },
    {
      "cell_type": "code",
      "source": [
        "# The above model is tuned by adding and removing Convulation layer, Dropout and MaxPooling2D to improve the accuracy of the baseline modal for the augmented images.\n",
        "\n",
        "tune_cnn_aug = Sequential([\n",
        "                    Conv2D(filters = 32, kernel_size = (3,3), padding = 'same', activation = 'relu', input_shape = (148,148,3)),\n",
        "                    Conv2D(filters = 32, kernel_size = (3,3), padding = 'same', activation = 'relu'),\n",
        "                    MaxPooling2D((2,2)),\n",
        "                    BatchNormalization(),\n",
        "                    Dropout(0.2),\n",
        "                    Conv2D(filters = 32, kernel_size = (4,4), padding = 'same', activation = 'relu'),\n",
        "                    Dropout(0.2),\n",
        "                    Conv2D(filters = 32, kernel_size = (3,3), padding = 'same', activation = 'relu'),\n",
        "                    MaxPooling2D((2,2)),\n",
        "                    Conv2D(filters = 32, kernel_size = (3,3), padding = 'same', activation  = 'relu' ),\n",
        "                    MaxPooling2D(pool_size = (2,2), strides = 2),\n",
        "                    BatchNormalization(),\n",
        "                    Dropout(0.3),\n",
        "                    Conv2D(filters = 64, kernel_size = (3,3), padding = 'same', activation  = 'relu' ),\n",
        "                    MaxPooling2D(pool_size = (2,2), strides = 2),\n",
        "                    Conv2D(filters = 64, kernel_size = (5,5), padding = 'valid', activation  = 'relu' ),\n",
        "                    MaxPooling2D(pool_size = (2,2), strides = 2),\n",
        "                    Conv2D(filters = 64, kernel_size = (5,5), padding = 'same', activation  = 'relu' ),\n",
        "                    MaxPooling2D(pool_size = (2,2), strides = 2),\n",
        "                    Conv2D(filters = 128, kernel_size = (5,5), padding = 'same', activation  = 'relu' ),\n",
        "                    Flatten(),\n",
        "                    Dense(2, activation='sigmoid')\n",
        "                    ])\n",
        "\n",
        "tune_cnn_aug.summary()\n",
        "\n",
        "tune_cnn_aug.compile(optimizer='adam', \n",
        "              loss=SparseCategoricalCrossentropy(from_logits=False),\n",
        "              metrics=['accuracy'] )\n",
        "\n",
        "tune_cnn_aug.fit(tr_aug_data, epochs=50, validation_data=val_aug)\n",
        "                  "
      ],
      "metadata": {
        "colab": {
          "base_uri": "https://localhost:8080/"
        },
        "id": "MjWaro2SJHM-",
        "outputId": "255a03d8-3120-4d4e-c807-0d28dbc6124b"
      },
      "execution_count": 61,
      "outputs": [
        {
          "output_type": "stream",
          "name": "stdout",
          "text": [
            "Model: \"sequential_32\"\n",
            "_________________________________________________________________\n",
            " Layer (type)                Output Shape              Param #   \n",
            "=================================================================\n",
            " conv2d_312 (Conv2D)         (None, 148, 148, 32)      896       \n",
            "                                                                 \n",
            " conv2d_313 (Conv2D)         (None, 148, 148, 32)      9248      \n",
            "                                                                 \n",
            " max_pooling2d_220 (MaxPooli  (None, 74, 74, 32)       0         \n",
            " ng2D)                                                           \n",
            "                                                                 \n",
            " batch_normalization_98 (Bat  (None, 74, 74, 32)       128       \n",
            " chNormalization)                                                \n",
            "                                                                 \n",
            " dropout_114 (Dropout)       (None, 74, 74, 32)        0         \n",
            "                                                                 \n",
            " conv2d_314 (Conv2D)         (None, 74, 74, 32)        16416     \n",
            "                                                                 \n",
            " dropout_115 (Dropout)       (None, 74, 74, 32)        0         \n",
            "                                                                 \n",
            " conv2d_315 (Conv2D)         (None, 74, 74, 32)        9248      \n",
            "                                                                 \n",
            " max_pooling2d_221 (MaxPooli  (None, 37, 37, 32)       0         \n",
            " ng2D)                                                           \n",
            "                                                                 \n",
            " conv2d_316 (Conv2D)         (None, 37, 37, 32)        9248      \n",
            "                                                                 \n",
            " max_pooling2d_222 (MaxPooli  (None, 18, 18, 32)       0         \n",
            " ng2D)                                                           \n",
            "                                                                 \n",
            " batch_normalization_99 (Bat  (None, 18, 18, 32)       128       \n",
            " chNormalization)                                                \n",
            "                                                                 \n",
            " dropout_116 (Dropout)       (None, 18, 18, 32)        0         \n",
            "                                                                 \n",
            " conv2d_317 (Conv2D)         (None, 18, 18, 64)        18496     \n",
            "                                                                 \n",
            " max_pooling2d_223 (MaxPooli  (None, 9, 9, 64)         0         \n",
            " ng2D)                                                           \n",
            "                                                                 \n",
            " conv2d_318 (Conv2D)         (None, 5, 5, 64)          102464    \n",
            "                                                                 \n",
            " max_pooling2d_224 (MaxPooli  (None, 2, 2, 64)         0         \n",
            " ng2D)                                                           \n",
            "                                                                 \n",
            " conv2d_319 (Conv2D)         (None, 2, 2, 64)          102464    \n",
            "                                                                 \n",
            " max_pooling2d_225 (MaxPooli  (None, 1, 1, 64)         0         \n",
            " ng2D)                                                           \n",
            "                                                                 \n",
            " conv2d_320 (Conv2D)         (None, 1, 1, 128)         204928    \n",
            "                                                                 \n",
            " flatten_35 (Flatten)        (None, 128)               0         \n",
            "                                                                 \n",
            " dense_58 (Dense)            (None, 2)                 258       \n",
            "                                                                 \n",
            "=================================================================\n",
            "Total params: 473,922\n",
            "Trainable params: 473,794\n",
            "Non-trainable params: 128\n",
            "_________________________________________________________________\n",
            "Epoch 1/50\n",
            "22/22 [==============================] - 12s 499ms/step - loss: 0.6961 - accuracy: 0.5186 - val_loss: 0.6933 - val_accuracy: 0.5000\n",
            "Epoch 2/50\n",
            "22/22 [==============================] - 7s 336ms/step - loss: 0.6866 - accuracy: 0.5457 - val_loss: 0.6931 - val_accuracy: 0.5100\n",
            "Epoch 3/50\n",
            "22/22 [==============================] - 7s 324ms/step - loss: 0.6907 - accuracy: 0.5271 - val_loss: 0.6930 - val_accuracy: 0.4900\n",
            "Epoch 4/50\n",
            "22/22 [==============================] - 7s 322ms/step - loss: 0.6847 - accuracy: 0.5600 - val_loss: 0.6988 - val_accuracy: 0.5000\n",
            "Epoch 5/50\n",
            "22/22 [==============================] - 7s 323ms/step - loss: 0.6779 - accuracy: 0.5986 - val_loss: 0.7464 - val_accuracy: 0.5000\n",
            "Epoch 6/50\n",
            "22/22 [==============================] - 7s 328ms/step - loss: 0.6814 - accuracy: 0.5914 - val_loss: 0.7106 - val_accuracy: 0.5000\n",
            "Epoch 7/50\n",
            "22/22 [==============================] - 7s 327ms/step - loss: 0.6541 - accuracy: 0.6314 - val_loss: 0.6972 - val_accuracy: 0.5000\n",
            "Epoch 8/50\n",
            "22/22 [==============================] - 7s 326ms/step - loss: 0.6769 - accuracy: 0.5729 - val_loss: 0.6782 - val_accuracy: 0.6300\n",
            "Epoch 9/50\n",
            "22/22 [==============================] - 8s 349ms/step - loss: 0.6554 - accuracy: 0.6157 - val_loss: 0.7287 - val_accuracy: 0.4900\n",
            "Epoch 10/50\n",
            "22/22 [==============================] - 7s 326ms/step - loss: 0.6710 - accuracy: 0.5914 - val_loss: 0.6928 - val_accuracy: 0.5000\n",
            "Epoch 11/50\n",
            "22/22 [==============================] - 7s 329ms/step - loss: 0.6544 - accuracy: 0.6143 - val_loss: 0.6925 - val_accuracy: 0.5800\n",
            "Epoch 12/50\n",
            "22/22 [==============================] - 7s 328ms/step - loss: 0.6579 - accuracy: 0.6214 - val_loss: 0.7597 - val_accuracy: 0.5000\n",
            "Epoch 13/50\n",
            "22/22 [==============================] - 7s 328ms/step - loss: 0.6494 - accuracy: 0.6286 - val_loss: 0.7147 - val_accuracy: 0.5200\n",
            "Epoch 14/50\n",
            "22/22 [==============================] - 7s 327ms/step - loss: 0.6648 - accuracy: 0.6029 - val_loss: 0.6779 - val_accuracy: 0.5800\n",
            "Epoch 15/50\n",
            "22/22 [==============================] - 7s 332ms/step - loss: 0.6456 - accuracy: 0.6114 - val_loss: 0.6811 - val_accuracy: 0.6300\n",
            "Epoch 16/50\n",
            "22/22 [==============================] - 7s 332ms/step - loss: 0.6584 - accuracy: 0.5814 - val_loss: 0.6756 - val_accuracy: 0.6100\n",
            "Epoch 17/50\n",
            "22/22 [==============================] - 7s 330ms/step - loss: 0.6525 - accuracy: 0.6557 - val_loss: 0.7022 - val_accuracy: 0.5500\n",
            "Epoch 18/50\n",
            "22/22 [==============================] - 7s 331ms/step - loss: 0.6446 - accuracy: 0.6286 - val_loss: 0.6862 - val_accuracy: 0.5100\n",
            "Epoch 19/50\n",
            "22/22 [==============================] - 7s 329ms/step - loss: 0.6354 - accuracy: 0.6386 - val_loss: 0.7474 - val_accuracy: 0.5000\n",
            "Epoch 20/50\n",
            "22/22 [==============================] - 7s 331ms/step - loss: 0.6559 - accuracy: 0.6057 - val_loss: 0.7155 - val_accuracy: 0.5000\n",
            "Epoch 21/50\n",
            "22/22 [==============================] - 7s 330ms/step - loss: 0.6407 - accuracy: 0.6243 - val_loss: 0.7143 - val_accuracy: 0.5200\n",
            "Epoch 22/50\n",
            "22/22 [==============================] - 7s 329ms/step - loss: 0.6449 - accuracy: 0.6429 - val_loss: 0.6773 - val_accuracy: 0.5900\n",
            "Epoch 23/50\n",
            "22/22 [==============================] - 7s 325ms/step - loss: 0.6315 - accuracy: 0.6557 - val_loss: 0.6862 - val_accuracy: 0.5400\n",
            "Epoch 24/50\n",
            "22/22 [==============================] - 8s 343ms/step - loss: 0.6237 - accuracy: 0.6714 - val_loss: 0.6761 - val_accuracy: 0.6300\n",
            "Epoch 25/50\n",
            "22/22 [==============================] - 7s 328ms/step - loss: 0.6344 - accuracy: 0.6400 - val_loss: 0.6883 - val_accuracy: 0.5500\n",
            "Epoch 26/50\n",
            "22/22 [==============================] - 7s 329ms/step - loss: 0.6329 - accuracy: 0.6271 - val_loss: 0.6830 - val_accuracy: 0.5400\n",
            "Epoch 27/50\n",
            "22/22 [==============================] - 7s 324ms/step - loss: 0.6197 - accuracy: 0.6714 - val_loss: 0.6956 - val_accuracy: 0.5500\n",
            "Epoch 28/50\n",
            "22/22 [==============================] - 7s 329ms/step - loss: 0.6143 - accuracy: 0.6429 - val_loss: 0.6944 - val_accuracy: 0.5400\n",
            "Epoch 29/50\n",
            "22/22 [==============================] - 7s 326ms/step - loss: 0.6245 - accuracy: 0.6643 - val_loss: 0.6889 - val_accuracy: 0.5500\n",
            "Epoch 30/50\n",
            "22/22 [==============================] - 7s 327ms/step - loss: 0.6274 - accuracy: 0.6614 - val_loss: 0.6850 - val_accuracy: 0.5600\n",
            "Epoch 31/50\n",
            "22/22 [==============================] - 7s 329ms/step - loss: 0.6066 - accuracy: 0.6986 - val_loss: 0.7073 - val_accuracy: 0.5300\n",
            "Epoch 32/50\n",
            "22/22 [==============================] - 7s 330ms/step - loss: 0.6286 - accuracy: 0.6486 - val_loss: 0.7585 - val_accuracy: 0.5100\n",
            "Epoch 33/50\n",
            "22/22 [==============================] - 7s 329ms/step - loss: 0.6099 - accuracy: 0.6686 - val_loss: 0.7391 - val_accuracy: 0.5700\n",
            "Epoch 34/50\n",
            "22/22 [==============================] - 8s 340ms/step - loss: 0.6032 - accuracy: 0.6957 - val_loss: 0.7016 - val_accuracy: 0.5500\n",
            "Epoch 35/50\n",
            "22/22 [==============================] - 7s 337ms/step - loss: 0.6087 - accuracy: 0.6643 - val_loss: 0.7063 - val_accuracy: 0.6000\n",
            "Epoch 36/50\n",
            "22/22 [==============================] - 7s 335ms/step - loss: 0.5880 - accuracy: 0.6914 - val_loss: 0.7162 - val_accuracy: 0.5500\n",
            "Epoch 37/50\n",
            "22/22 [==============================] - 7s 335ms/step - loss: 0.5928 - accuracy: 0.6843 - val_loss: 0.7815 - val_accuracy: 0.5400\n",
            "Epoch 38/50\n",
            "22/22 [==============================] - 7s 336ms/step - loss: 0.5834 - accuracy: 0.6771 - val_loss: 0.6742 - val_accuracy: 0.6000\n",
            "Epoch 39/50\n",
            "22/22 [==============================] - 7s 336ms/step - loss: 0.5815 - accuracy: 0.6800 - val_loss: 0.8051 - val_accuracy: 0.5800\n",
            "Epoch 40/50\n",
            "22/22 [==============================] - 8s 339ms/step - loss: 0.6184 - accuracy: 0.6614 - val_loss: 0.6939 - val_accuracy: 0.5900\n",
            "Epoch 41/50\n",
            "22/22 [==============================] - 7s 330ms/step - loss: 0.5761 - accuracy: 0.6857 - val_loss: 0.7148 - val_accuracy: 0.5800\n",
            "Epoch 42/50\n",
            "22/22 [==============================] - 7s 327ms/step - loss: 0.5527 - accuracy: 0.7214 - val_loss: 0.7425 - val_accuracy: 0.5500\n",
            "Epoch 43/50\n",
            "22/22 [==============================] - 7s 328ms/step - loss: 0.5733 - accuracy: 0.6929 - val_loss: 0.7493 - val_accuracy: 0.5500\n",
            "Epoch 44/50\n",
            "22/22 [==============================] - 7s 329ms/step - loss: 0.5372 - accuracy: 0.7243 - val_loss: 0.7718 - val_accuracy: 0.5300\n",
            "Epoch 45/50\n",
            "22/22 [==============================] - 7s 330ms/step - loss: 0.5667 - accuracy: 0.7186 - val_loss: 0.7599 - val_accuracy: 0.5800\n",
            "Epoch 46/50\n",
            "22/22 [==============================] - 7s 323ms/step - loss: 0.5668 - accuracy: 0.7086 - val_loss: 0.8044 - val_accuracy: 0.5700\n",
            "Epoch 47/50\n",
            "22/22 [==============================] - 7s 325ms/step - loss: 0.5492 - accuracy: 0.7100 - val_loss: 1.2197 - val_accuracy: 0.5500\n",
            "Epoch 48/50\n",
            "22/22 [==============================] - 7s 324ms/step - loss: 0.5543 - accuracy: 0.7086 - val_loss: 0.6897 - val_accuracy: 0.5600\n",
            "Epoch 49/50\n",
            "22/22 [==============================] - 7s 325ms/step - loss: 0.5341 - accuracy: 0.7414 - val_loss: 0.6910 - val_accuracy: 0.5600\n",
            "Epoch 50/50\n",
            "22/22 [==============================] - 7s 325ms/step - loss: 0.5584 - accuracy: 0.7200 - val_loss: 0.6981 - val_accuracy: 0.5300\n"
          ]
        },
        {
          "output_type": "execute_result",
          "data": {
            "text/plain": [
              "<keras.callbacks.History at 0x7f94d26d2850>"
            ]
          },
          "metadata": {},
          "execution_count": 61
        }
      ]
    },
    {
      "cell_type": "markdown",
      "source": [
        "### Report Accuracy on Test Set \n",
        "\n",
        "Your final step is to make predictions using the test set and report the final test set accuracy. "
      ],
      "metadata": {
        "id": "_uAbyH4biwPT"
      }
    },
    {
      "cell_type": "code",
      "source": [
        "# In the below code, '.evaluate' function is used for evaluating the already trained model with the test data as we are asked to report the test set accuracy.\n",
        "aug_test_acc = tune_cnn_aug.evaluate(te_aug)\n",
        "print('test_acc:', aug_test_acc)"
      ],
      "metadata": {
        "colab": {
          "base_uri": "https://localhost:8080/"
        },
        "id": "BfkJYP5veRtO",
        "outputId": "46cc0345-10d3-4d33-e04a-a04aed5c5240"
      },
      "execution_count": 62,
      "outputs": [
        {
          "output_type": "stream",
          "name": "stdout",
          "text": [
            "7/7 [==============================] - 1s 144ms/step - loss: 0.6364 - accuracy: 0.6550\n",
            "test_acc: [0.6364362239837646, 0.6549999713897705]\n"
          ]
        }
      ]
    }
  ],
  "metadata": {
    "kernelspec": {
      "display_name": "Python 3",
      "language": "python",
      "name": "python3"
    },
    "language_info": {
      "codemirror_mode": {
        "name": "ipython",
        "version": 3
      },
      "file_extension": ".py",
      "mimetype": "text/x-python",
      "name": "python",
      "nbconvert_exporter": "python",
      "pygments_lexer": "ipython3",
      "version": "3.8.8"
    },
    "colab": {
      "name": "Lab_4_till_part2.ipynb",
      "provenance": [],
      "collapsed_sections": []
    },
    "accelerator": "GPU"
  },
  "nbformat": 4,
  "nbformat_minor": 0
}