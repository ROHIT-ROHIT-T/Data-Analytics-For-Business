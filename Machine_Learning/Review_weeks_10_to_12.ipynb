{
 "cells": [
  {
   "cell_type": "markdown",
   "id": "71d46945",
   "metadata": {},
   "source": [
    "# Review Notebook: Weeks 11 to 13"
   ]
  },
  {
   "cell_type": "markdown",
   "id": "176ff33a",
   "metadata": {},
   "source": [
    "Hyperparameter tuning\n",
    "- how and why we do it?\n",
    "- examples of parameters that get tuned"
   ]
  },
  {
   "cell_type": "code",
   "execution_count": null,
   "id": "8c2cc3f5",
   "metadata": {},
   "outputs": [],
   "source": []
  },
  {
   "cell_type": "markdown",
   "id": "de2307bb",
   "metadata": {},
   "source": [
    "Transfer learning\n",
    "- import model\n",
    "- select layers\n",
    "- use selected layers as part of another model\n",
    "- freeze/unfreeze layers"
   ]
  },
  {
   "cell_type": "code",
   "execution_count": null,
   "id": "242d0d5b",
   "metadata": {},
   "outputs": [],
   "source": []
  },
  {
   "cell_type": "markdown",
   "id": "060c8661",
   "metadata": {},
   "source": [
    "Fine-tuning\n",
    "- how it works"
   ]
  },
  {
   "cell_type": "code",
   "execution_count": null,
   "id": "8f1c5f5f",
   "metadata": {},
   "outputs": [],
   "source": []
  },
  {
   "cell_type": "markdown",
   "id": "7671f892",
   "metadata": {},
   "source": [
    "Why do we need RNN's?"
   ]
  },
  {
   "cell_type": "code",
   "execution_count": null,
   "id": "1df5a4f1",
   "metadata": {},
   "outputs": [],
   "source": []
  },
  {
   "cell_type": "markdown",
   "id": "8a89fe89",
   "metadata": {},
   "source": [
    "Generate time series data from an array of any size.\n",
    "- different sequence lengths \n",
    "- different delays\n",
    "- different batch sizes"
   ]
  },
  {
   "cell_type": "code",
   "execution_count": null,
   "id": "60b86d18",
   "metadata": {},
   "outputs": [],
   "source": []
  },
  {
   "cell_type": "markdown",
   "id": "a8bc5234",
   "metadata": {},
   "source": [
    "Given some data, code a simple recurrent neural network and calculate output: "
   ]
  },
  {
   "cell_type": "code",
   "execution_count": null,
   "id": "88f9d334",
   "metadata": {},
   "outputs": [],
   "source": [
    "import numpy as np\n",
    "\n",
    "input_sequence = np.random.randint(-5, 5, size=(3, 5))\n",
    "\n",
    "Wxh = np.random.randint(-5, 5, size=(6, 5)) \n",
    "Whh = np.random.randint(-5, 5, size=(6, 6))\n",
    "bh = np.random.randint(-5, 5, size=(6, 1))\n",
    "Why = np.random.randint(-5, 5, size=(2, 6))\n",
    "by = np.random.randint(-5, 5, size=(2, 1))\n",
    "\n",
    "print(f\"Wxh = {Wxh}\")\n",
    "print(f\"Whh = {Whh}\")\n",
    "print(f\"bh = {bh}\")\n",
    "print(f\"Why = {Why}\")\n",
    "print(f\"by = {by}\")"
   ]
  },
  {
   "cell_type": "code",
   "execution_count": null,
   "id": "bd027ae9",
   "metadata": {},
   "outputs": [],
   "source": []
  },
  {
   "cell_type": "markdown",
   "id": "98ff1203",
   "metadata": {},
   "source": [
    "Given some data, calculate the shapes of Wxh, Whh, Why and the total number of parameters in a simpleRNN: \n",
    "\n",
    "- input_sequence shape is (5, 7)\n",
    "- internal state has 10 neurons\n",
    "- output dimension is 3"
   ]
  },
  {
   "cell_type": "code",
   "execution_count": null,
   "id": "59657e39",
   "metadata": {},
   "outputs": [],
   "source": []
  },
  {
   "cell_type": "markdown",
   "id": "85af29ed",
   "metadata": {},
   "source": [
    "Know the equations for calculating $h_t$ and $\\hat{y}_t$ of simple RNN"
   ]
  },
  {
   "cell_type": "code",
   "execution_count": null,
   "id": "199a37b1",
   "metadata": {},
   "outputs": [],
   "source": []
  },
  {
   "cell_type": "markdown",
   "id": "dba79548",
   "metadata": {},
   "source": [
    "TextVectorization\n",
    "- create vocabulary: unigram and bigram\n",
    "- create different encodings\n",
    "- get_vocabulary\n",
    "- limit size of vocabulary\n",
    "- limit sequence length"
   ]
  },
  {
   "cell_type": "code",
   "execution_count": null,
   "id": "ac816803",
   "metadata": {},
   "outputs": [],
   "source": []
  },
  {
   "cell_type": "markdown",
   "id": "44f3c00a",
   "metadata": {},
   "source": [
    "One-hot encoding"
   ]
  },
  {
   "cell_type": "code",
   "execution_count": null,
   "id": "93c9da87",
   "metadata": {},
   "outputs": [],
   "source": []
  },
  {
   "cell_type": "markdown",
   "id": "0750d686",
   "metadata": {},
   "source": [
    "Word embeddings"
   ]
  },
  {
   "cell_type": "code",
   "execution_count": null,
   "id": "4e62e250",
   "metadata": {},
   "outputs": [],
   "source": []
  },
  {
   "cell_type": "markdown",
   "id": "f0698de7",
   "metadata": {},
   "source": [
    "Zero-padding"
   ]
  },
  {
   "cell_type": "code",
   "execution_count": null,
   "id": "e20d33bd",
   "metadata": {},
   "outputs": [],
   "source": []
  },
  {
   "cell_type": "markdown",
   "id": "e0ab674f",
   "metadata": {},
   "source": [
    "Masking"
   ]
  },
  {
   "cell_type": "code",
   "execution_count": null,
   "id": "018a8915",
   "metadata": {},
   "outputs": [],
   "source": []
  },
  {
   "cell_type": "markdown",
   "id": "e2218761",
   "metadata": {},
   "source": [
    "Bag of Words models"
   ]
  },
  {
   "cell_type": "code",
   "execution_count": null,
   "id": "d63578cf",
   "metadata": {},
   "outputs": [],
   "source": []
  },
  {
   "cell_type": "markdown",
   "id": "47a3009c",
   "metadata": {},
   "source": [
    "Sequence models"
   ]
  },
  {
   "cell_type": "code",
   "execution_count": null,
   "id": "23d95bf3",
   "metadata": {},
   "outputs": [],
   "source": []
  }
 ],
 "metadata": {
  "kernelspec": {
   "display_name": "Python 3 (ipykernel)",
   "language": "python",
   "name": "python3"
  },
  "language_info": {
   "codemirror_mode": {
    "name": "ipython",
    "version": 3
   },
   "file_extension": ".py",
   "mimetype": "text/x-python",
   "name": "python",
   "nbconvert_exporter": "python",
   "pygments_lexer": "ipython3",
   "version": "3.7.13"
  }
 },
 "nbformat": 4,
 "nbformat_minor": 5
}
