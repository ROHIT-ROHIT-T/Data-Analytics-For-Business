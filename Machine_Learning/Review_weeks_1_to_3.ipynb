{
 "cells": [
  {
   "cell_type": "markdown",
   "id": "fe89e332",
   "metadata": {},
   "source": [
    "# Review: Weeks 1 to 3"
   ]
  },
  {
   "cell_type": "markdown",
   "id": "af699720",
   "metadata": {},
   "source": [
    "1. Draw and label a single neuron and then code all the necessary mathematical operations to calculate the output of neuron using the following information:\n",
    "     - $X = \\left[4, 2, -1, 2 \\right] $ \n",
    "     - $W = \\left[1, 0, 2, 1\\right]$\n",
    "     - $b = [-4]$\n",
    "     - sigmoid activation function\n"
   ]
  },
  {
   "cell_type": "code",
   "execution_count": null,
   "id": "fa4f52f6",
   "metadata": {},
   "outputs": [],
   "source": []
  },
  {
   "cell_type": "markdown",
   "id": "dc9ee1db",
   "metadata": {},
   "source": [
    "2. Draw and label the network and then code all the necessary mathematical operations to calculate the output of network for sample 2 given the following information:\n",
    "     - $X = \\left[\\begin{array}{cc} 2 & -1 & 3 \\\\\n",
    "     -4 & 1 & 2 \\end{array}\\right]$ \n",
    "     - $W^{[1]} = \\left[\\begin{array}{cc} 1 & 2 & 1 \\\\\n",
    "     3 & 1 & 2 \\end{array}\\right]$\n",
    "     - $b^{[1]} = [4, 2]$\n",
    "     - $W^{[2]} = [1, 3]$\n",
    "     - $b^{[2]} = [1]$\n",
    "     - ReLU activation function"
   ]
  },
  {
   "cell_type": "code",
   "execution_count": null,
   "id": "4fc7f043",
   "metadata": {},
   "outputs": [],
   "source": []
  },
  {
   "cell_type": "markdown",
   "id": "ff9e6eca",
   "metadata": {},
   "source": [
    "3. How many trainable parameters does the following network have:\n",
    " - Input data has 10 features\n",
    " - Layer 1 has 5 neurons\n",
    " - Layer 2 has 3 neurons\n",
    " - Output layer has 1 neuron"
   ]
  },
  {
   "cell_type": "markdown",
   "id": "49990fe8",
   "metadata": {},
   "source": [
    "4. Explain the role of the `optimizer`, `loss`, and `metric` that we specify during the `compile` step.\n",
    "5. Explain the three ways of carrying out *gradient descent*. \n",
    "6. What does the term `epoch` mean?\n",
    "7. What does the term `batch_size` mean?\n",
    "8. How many samples does the following data have:\n",
    "    - $X = \\left[\\begin{array}{cccccc} \n",
    "                -1 & -1 & -5 &  2 &  1 &  2 \\\\\n",
    "                 1 &  3 & -4 & -1 & -1 &  2 \\\\\n",
    "                -2 & -1 &  4 & -2 & -3 &  0 \\\\\n",
    "                 4 &  4 & -4 &  4 & -1 &  1 \\\\\n",
    "                -4 &  3 & -3 & -5 &  2 &  2 \\\\\n",
    "                -4 & -1 & -4 & -1 & -4 & -4 \\\\\n",
    "                 0 & -1 &  1 & -1 & -3 & -5 \\end{array}\\right]$ "
   ]
  },
  {
   "cell_type": "markdown",
   "id": "858a2ba3",
   "metadata": {},
   "source": [
    "9. How many features does each sample in the following data have:\n",
    "    - $X = \\left[\\begin{array}{cccccccc} \n",
    "                -1 & -1 & -5 &  2 &  1 &  2 & -1 &  4 \\\\\n",
    "                 1 &  3 & -4 & -1 & -1 &  2 & -5 &  2 \\\\\n",
    "                -2 & -1 &  4 & -2 & -3 &  0 &  3 & -4 \\\\\n",
    "                 4 &  4 & -4 &  4 & -1 &  1 & -4 & -1 \\\\\n",
    "                -4 &  3 & -3 & -5 &  2 &  2 & -1 &  4\n",
    "                \\end{array}\\right]$ "
   ]
  },
  {
   "cell_type": "markdown",
   "id": "7763b0ff",
   "metadata": {},
   "source": [
    "10. How many neurons are in layer 3:\n",
    "    - $W^{[3]} = \\left[\\begin{array}{cccc} \n",
    "                -1 & -5 &  2 &  1 \\\\\n",
    "                 3 & -4 & -1 & -1 \\\\\n",
    "                -1 &  4 & -2 & -3 \\\\\n",
    "                 4 & -4 &  4 & -1 \\\\\n",
    "                 3 & -3 & -5 &  2 \\\\\n",
    "                -1 & -4 & -1 & -4 \\end{array}\\right]$ "
   ]
  },
  {
   "cell_type": "markdown",
   "id": "9dbc8b24",
   "metadata": {},
   "source": [
    "11. Explain the role of the `learning_rate`.\n",
    "12. The following code is to be used to train a network on the MNIST data. Please fix all the errors.\n",
    "\n",
    "```\n",
    "network = Sequential()\n",
    "network.add(Dense(512, activation='relu', input_shape=(28 * 28,)))\n",
    "network.add(Dense(1, activation='sigmoid'))\n",
    "\n",
    "network.compile(optimizer='rmsprop',\n",
    "                loss='mean_squared_error',\n",
    "                metrics=['accuracy'])\n",
    "\n",
    "network.fit(test_images, test_labels, epochs=7, batch_size=64)\n",
    "```"
   ]
  },
  {
   "cell_type": "markdown",
   "id": "e6de9a21",
   "metadata": {},
   "source": [
    "13. What is the difference between the network used for training and the network used for testing?\n",
    "14. What two pieces of information does the derivative tells with respect to adjusting the parameters of the network?\n",
    "15. Describe a straightforward method that could be used to update the weights in a neural network. \n",
    "16. When we say a network *learns*, what does that mean? How is this connected to *training* a network? \n",
    "17. If a network is fully connected, what does that mean?"
   ]
  },
  {
   "cell_type": "markdown",
   "id": "80a0ff22",
   "metadata": {},
   "source": [
    "### Extra Review\n",
    "\n",
    "Take Kaggle's [Intro to Deep Learning](https://www.kaggle.com/learn/intro-to-deep-learning) course."
   ]
  },
  {
   "cell_type": "markdown",
   "id": "cb14c51e",
   "metadata": {},
   "source": [
    "### Extra Challenge\n",
    "\n",
    "Try creating a fully-connected neural network for Kaggles [100,000 UK Used Car Data set](https://www.kaggle.com/adityadesai13/used-car-dataset-ford-and-mercedes). "
   ]
  }
 ],
 "metadata": {
  "kernelspec": {
   "display_name": "Python 3",
   "language": "python",
   "name": "python3"
  },
  "language_info": {
   "codemirror_mode": {
    "name": "ipython",
    "version": 3
   },
   "file_extension": ".py",
   "mimetype": "text/x-python",
   "name": "python",
   "nbconvert_exporter": "python",
   "pygments_lexer": "ipython3",
   "version": "3.8.8"
  }
 },
 "nbformat": 4,
 "nbformat_minor": 5
}
