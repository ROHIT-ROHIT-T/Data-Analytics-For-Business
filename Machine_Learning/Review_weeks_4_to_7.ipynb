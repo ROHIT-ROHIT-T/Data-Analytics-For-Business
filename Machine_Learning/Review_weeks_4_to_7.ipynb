{
 "cells": [
  {
   "cell_type": "markdown",
   "id": "2213b2f2",
   "metadata": {},
   "source": [
    "## Convolutions"
   ]
  },
  {
   "cell_type": "code",
   "execution_count": 44,
   "id": "da7155d5",
   "metadata": {},
   "outputs": [
    {
     "data": {
      "text/plain": [
       "array([[1, 8, 7, 3, 3, 3],\n",
       "       [3, 8, 5, 9, 2, 6],\n",
       "       [0, 6, 0, 0, 4, 6],\n",
       "       [2, 0, 3, 3, 5, 3],\n",
       "       [1, 3, 5, 3, 6, 6],\n",
       "       [2, 7, 8, 5, 4, 3]])"
      ]
     },
     "execution_count": 44,
     "metadata": {},
     "output_type": "execute_result"
    }
   ],
   "source": [
    "import numpy as np\n",
    "\n",
    "x = np.random.randint(0, 10, size=(6, 6)) \n",
    "x"
   ]
  },
  {
   "cell_type": "code",
   "execution_count": 5,
   "id": "7951b2d2",
   "metadata": {
    "tags": []
   },
   "outputs": [
    {
     "data": {
      "text/plain": [
       "array([[ 1,  0,  0],\n",
       "       [ 2,  1,  0],\n",
       "       [-2,  2, -1]])"
      ]
     },
     "execution_count": 5,
     "metadata": {},
     "output_type": "execute_result"
    }
   ],
   "source": [
    "f3 = np.random.randint(-3, 3, size=(3, 3)) \n",
    "f3"
   ]
  },
  {
   "cell_type": "code",
   "execution_count": 6,
   "id": "b86f8559",
   "metadata": {
    "tags": []
   },
   "outputs": [
    {
     "data": {
      "text/plain": [
       "array([[ 1,  0,  0, -1, -2],\n",
       "       [ 2, -2,  0, -3, -2],\n",
       "       [-1,  0, -3,  1,  0],\n",
       "       [-1, -2,  0, -3,  2],\n",
       "       [ 0,  2,  1, -3,  0]])"
      ]
     },
     "execution_count": 6,
     "metadata": {},
     "output_type": "execute_result"
    }
   ],
   "source": [
    "f5 = np.random.randint(-3, 3, size=(5, 5)) \n",
    "f5"
   ]
  },
  {
   "cell_type": "markdown",
   "id": "f57bb0ea",
   "metadata": {},
   "source": [
    "Calculate via code the convolutional output of the above array and the filters `f3` and `f5` assuming:\n",
    " - `padding=\"valid\"`\n",
    " - `padding=\"same\"` (see if `np.pad()` helps)\n",
    " \n",
    "Also, calculate using `Conv2d` layer."
   ]
  },
  {
   "cell_type": "markdown",
   "id": "afa329ee",
   "metadata": {},
   "source": [
    "## Pooling"
   ]
  },
  {
   "cell_type": "code",
   "execution_count": 24,
   "id": "40960fb6",
   "metadata": {},
   "outputs": [
    {
     "data": {
      "text/plain": [
       "array([[  0,   3,  -3,   4,   1,   5],\n",
       "       [ -9,  -9,   4,   2,   6,   7],\n",
       "       [-10,   3, -10,  -4,  -5, -10],\n",
       "       [ -1,  -4,  -2,  -8,   2,   2],\n",
       "       [ -4,   7,   5,  -3,  -4,   3],\n",
       "       [ -2,  -1,   5,  -9, -10,   8]])"
      ]
     },
     "execution_count": 24,
     "metadata": {},
     "output_type": "execute_result"
    }
   ],
   "source": [
    "x = np.random.randint(-10, 10, size=(6, 6)) \n",
    "x"
   ]
  },
  {
   "cell_type": "markdown",
   "id": "ae4637a0",
   "metadata": {},
   "source": [
    "Calculate the output of a pooling operation assuming no padding and using a pooling layer:\n",
    " - `pool_size = (2, 2)` and `strides=2` and *Max Pooling* is used\n",
    " - `pool_size = (3, 3)` and `strides=2` and *Max Pooling* is used\n",
    " - `pool_size = (2, 2)` and `strides=1` and *Max Pooling* is used\n",
    " - `pool_size = (3, 3)` and `strides=1` and *Max Pooling* is used\n",
    " - `pool_size = (2, 2)` and `strides=2` and *Average Pooling* is used\n",
    " - `pool_size = (3, 3)` and `strides=2` and *Average Pooling* is used\n",
    " - `pool_size = (2, 2)` and `strides=1` and *Average Pooling* is used\n",
    " - `pool_size = (3, 3)` and `strides=1` and *Average Pooling* is used\n"
   ]
  },
  {
   "cell_type": "markdown",
   "id": "b3ef841a",
   "metadata": {},
   "source": [
    "## Parameter calculation"
   ]
  },
  {
   "cell_type": "markdown",
   "id": "7318394e",
   "metadata": {},
   "source": [
    "How many trainable parameters does the following model have: \n",
    "\n",
    "- input data has dimensions (180, 180, 3)\n",
    "- Conv2D(32, kernel_size=(5, 5), activation=\"relu\")\n",
    "- AveragePooling(pool_size=(2, 2), strides=2)\n",
    "- Conv2D(32, kernel_size=(5, 5), activation=\"relu\")\n",
    "- AveragePooling(pool_size=(2, 2), strides=2)\n",
    "- Flatten()\n",
    "- Dense(128, activation=\"relu\")\n",
    "- Dense(3, activation=\"softmax\")"
   ]
  },
  {
   "cell_type": "code",
   "execution_count": null,
   "id": "1961c6fa",
   "metadata": {},
   "outputs": [],
   "source": []
  },
  {
   "cell_type": "markdown",
   "id": "a7feeab5",
   "metadata": {},
   "source": [
    "Create fully-connected and convolutional neural networks using both the **sequential** and the **functional** API's in Keras."
   ]
  },
  {
   "cell_type": "code",
   "execution_count": null,
   "id": "bdedcefb",
   "metadata": {},
   "outputs": [],
   "source": []
  },
  {
   "cell_type": "markdown",
   "id": "0179949d",
   "metadata": {},
   "source": [
    "What does **Early Stopping** mean and why do we use it?"
   ]
  },
  {
   "cell_type": "markdown",
   "id": "07e0ba55",
   "metadata": {},
   "source": [
    "What do we mean by the **receptive field** of a filter in a convolutional neural network?"
   ]
  },
  {
   "cell_type": "markdown",
   "id": "bf7aa636",
   "metadata": {},
   "source": [
    "What 2 properties do convolutional neural networks have that make them much more useful for images than fully-connected networks?"
   ]
  },
  {
   "cell_type": "markdown",
   "id": "1ce03408",
   "metadata": {},
   "source": [
    "Explain **padding**."
   ]
  },
  {
   "cell_type": "markdown",
   "id": "e2d67ad0",
   "metadata": {},
   "source": [
    "Explain **strides**."
   ]
  },
  {
   "cell_type": "markdown",
   "id": "869d387f",
   "metadata": {},
   "source": [
    "What is the purpose of a **pooling** layer?"
   ]
  },
  {
   "cell_type": "markdown",
   "id": "f4304c63",
   "metadata": {},
   "source": [
    "What is the difference between a **parameter** and a **hyperparameter**?"
   ]
  },
  {
   "cell_type": "markdown",
   "id": "88d1b6a5",
   "metadata": {},
   "source": [
    "What are training, validation, and test datasets used for?"
   ]
  },
  {
   "cell_type": "markdown",
   "id": "00f4b30f",
   "metadata": {},
   "source": [
    "What is a baseline and how is it used?"
   ]
  },
  {
   "cell_type": "markdown",
   "id": "48148475",
   "metadata": {},
   "source": [
    "What are the first 2 goals we should have when creating a deep learning model?"
   ]
  },
  {
   "cell_type": "markdown",
   "id": "e9208d2e",
   "metadata": {},
   "source": [
    "What are some ways to deal with overfitting?"
   ]
  },
  {
   "cell_type": "markdown",
   "id": "6c242b28",
   "metadata": {},
   "source": [
    "In order to get the best model you first have to...."
   ]
  },
  {
   "cell_type": "markdown",
   "id": "516759c0",
   "metadata": {},
   "source": [
    "What are some common problems when training a model and how can they be overcome?"
   ]
  }
 ],
 "metadata": {
  "kernelspec": {
   "display_name": "Python 3",
   "language": "python",
   "name": "python3"
  },
  "language_info": {
   "codemirror_mode": {
    "name": "ipython",
    "version": 3
   },
   "file_extension": ".py",
   "mimetype": "text/x-python",
   "name": "python",
   "nbconvert_exporter": "python",
   "pygments_lexer": "ipython3",
   "version": "3.8.8"
  }
 },
 "nbformat": 4,
 "nbformat_minor": 5
}
